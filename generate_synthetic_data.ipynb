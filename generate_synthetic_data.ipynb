{
 "cells": [
  {
   "cell_type": "code",
   "execution_count": 1,
   "id": "b5686fed",
   "metadata": {},
   "outputs": [],
   "source": [
    "import pandas as pd\n",
    "import numpy as np\n",
    "import random\n",
    "pd.set_option('display.max_columns', 100)"
   ]
  },
  {
   "cell_type": "code",
   "execution_count": 2,
   "id": "30cd51bb",
   "metadata": {},
   "outputs": [
    {
     "name": "stdout",
     "output_type": "stream",
     "text": [
      "(3587,)\n"
     ]
    },
    {
     "data": {
      "text/plain": [
       "array([25795, 10860, 86820, ..., 18244, 24743, 56101])"
      ]
     },
     "execution_count": 2,
     "metadata": {},
     "output_type": "execute_result"
    }
   ],
   "source": [
    "# Set random seed for reproducibility\n",
    "np.random.seed(42)\n",
    "\n",
    "# Number of records\n",
    "num_records = 3587\n",
    "\n",
    "# Generate synthetic student numbers (5-digit numbers)\n",
    "student_studentnumber = np.random.randint(10000, 99999, num_records)\n",
    "print(student_studentnumber.shape)\n",
    "student_studentnumber"
   ]
  },
  {
   "cell_type": "code",
   "execution_count": 3,
   "id": "88d211ef",
   "metadata": {},
   "outputs": [
    {
     "name": "stdout",
     "output_type": "stream",
     "text": [
      "(3587,)\n"
     ]
    },
    {
     "data": {
      "text/plain": [
       "array(['2017-11-19T00:00:00.000000000', '2022-07-13T00:00:00.000000000',\n",
       "       '2021-04-26T00:00:00.000000000', ...,\n",
       "       '2018-10-22T00:00:00.000000000', '2024-04-12T00:00:00.000000000',\n",
       "       '2015-05-24T00:00:00.000000000'], dtype='datetime64[ns]')"
      ]
     },
     "execution_count": 3,
     "metadata": {},
     "output_type": "execute_result"
    }
   ],
   "source": [
    "# High School Graduation Dates (Sampled from given distribution)\n",
    "grad_dates = pd.date_range(start=\"2015-01-01\", end=\"2024-12-31\", freq=\"D\")\n",
    "high_school_grad_date = np.random.choice(grad_dates, num_records)\n",
    "print(high_school_grad_date.shape)\n",
    "high_school_grad_date"
   ]
  },
  {
   "cell_type": "code",
   "execution_count": 4,
   "id": "9a3f658e",
   "metadata": {},
   "outputs": [
    {
     "name": "stdout",
     "output_type": "stream",
     "text": [
      "(3587,)\n"
     ]
    },
    {
     "data": {
      "text/plain": [
       "array([ 0.,  0.,  0., ...,  0., nan, nan])"
      ]
     },
     "execution_count": 4,
     "metadata": {},
     "output_type": "execute_result"
    }
   ],
   "source": [
    "# Graduated College (Using given proportions)\n",
    "graduated_college = np.random.choice([np.nan, 0, 1], num_records, p=[1700/3587, 1502/3587, 385/3587])\n",
    "print(graduated_college.shape)\n",
    "graduated_college"
   ]
  },
  {
   "cell_type": "code",
   "execution_count": 5,
   "id": "036c6c36",
   "metadata": {},
   "outputs": [
    {
     "name": "stdout",
     "output_type": "stream",
     "text": [
      "(3587,)\n"
     ]
    },
    {
     "data": {
      "text/plain": [
       "array([2023, 2024, 2020, ..., 2020, 2024, 2017])"
      ]
     },
     "execution_count": 5,
     "metadata": {},
     "output_type": "execute_result"
    }
   ],
   "source": [
    "# Cohort Distribution\n",
    "cohort_values = [2024, 2020, 2023, 2022, 2021, 2018, 2019, 2016, 2017, 2015]\n",
    "cohort_probs = [437, 402, 395, 371, 365, 344, 342, 320, 317, 294]\n",
    "cohort = np.random.choice(cohort_values, num_records, p=np.array(cohort_probs) / sum(cohort_probs))\n",
    "print(cohort.shape)\n",
    "cohort"
   ]
  },
  {
   "cell_type": "code",
   "execution_count": 6,
   "id": "2aee82b7",
   "metadata": {},
   "outputs": [
    {
     "name": "stdout",
     "output_type": "stream",
     "text": [
      "(3587,)\n"
     ]
    },
    {
     "data": {
      "text/plain": [
       "array([0, 0, 0, ..., 0, 0, 0])"
      ]
     },
     "execution_count": 6,
     "metadata": {},
     "output_type": "execute_result"
    }
   ],
   "source": [
    "# CE Student Distribution\n",
    "ce_student = np.random.choice([0, 1], num_records, p=[2561/3587, 1026/3587])\n",
    "print(ce_student.shape)\n",
    "ce_student"
   ]
  },
  {
   "cell_type": "code",
   "execution_count": 7,
   "id": "dae5bb78",
   "metadata": {},
   "outputs": [
    {
     "name": "stdout",
     "output_type": "stream",
     "text": [
      "(3587,)\n"
     ]
    },
    {
     "data": {
      "text/plain": [
       "array(['Summit Career Academy', 'Rock Creek Youth Center',\n",
       "       'Rock Creek Youth Center', ..., 'Evergreen Virtual Academy',\n",
       "       'Evergreen Virtual Academy', 'Highland Ridge High School'],\n",
       "      dtype='<U26')"
      ]
     },
     "execution_count": 7,
     "metadata": {},
     "output_type": "execute_result"
    }
   ],
   "source": [
    "# School Names\n",
    "school_names = [\"Highland Ridge High School\", \"Cedar Valley High School\", \"Summit Career Academy\", \"Evergreen Virtual Academy\", \"Rock Creek Youth Center\"]\n",
    "school_probs = [700, 694, 754, 712, 727]\n",
    "sch_name = np.random.choice(school_names, num_records, p=np.array(school_probs) / sum(school_probs))\n",
    "print(sch_name.shape)\n",
    "sch_name"
   ]
  },
  {
   "cell_type": "code",
   "execution_count": 8,
   "id": "f523df3e",
   "metadata": {},
   "outputs": [
    {
     "name": "stdout",
     "output_type": "stream",
     "text": [
      "(3587,)\n"
     ]
    },
    {
     "data": {
      "text/plain": [
       "array([1, 1, 1, ..., 0, 0, 0])"
      ]
     },
     "execution_count": 8,
     "metadata": {},
     "output_type": "execute_result"
    }
   ],
   "source": [
    "# Gender Distribution\n",
    "student_gender = np.random.choice([1, 0], num_records, p=[1860/3587, 1727/3587])\n",
    "print(student_gender.shape)\n",
    "student_gender"
   ]
  },
  {
   "cell_type": "code",
   "execution_count": 11,
   "id": "892f1222",
   "metadata": {},
   "outputs": [
    {
     "name": "stdout",
     "output_type": "stream",
     "text": [
      "(3587,)\n"
     ]
    },
    {
     "data": {
      "text/plain": [
       "array(['White', 'White', 'Hispanic', ..., 'White', 'Hispanic', 'Hispanic'],\n",
       "      dtype='<U25')"
      ]
     },
     "execution_count": 11,
     "metadata": {},
     "output_type": "execute_result"
    }
   ],
   "source": [
    "# Race/Ethnicity Distribution\n",
    "race_ethnicity = [\"Hispanic\", \"Black or African American\", \"White\", \"Two or More Races\", \"Asian\", \"Other\"]\n",
    "race_probs = [1736, 814, 622, 243, 107, 65]\n",
    "student_raceethnicity = np.random.choice(race_ethnicity, num_records, p=np.array(race_probs) / sum(race_probs))\n",
    "print(student_raceethnicity.shape)\n",
    "student_raceethnicity"
   ]
  },
  {
   "cell_type": "code",
   "execution_count": 13,
   "id": "8796ee68",
   "metadata": {},
   "outputs": [
    {
     "name": "stdout",
     "output_type": "stream",
     "text": [
      "(3587,)\n"
     ]
    },
    {
     "data": {
      "text/plain": [
       "array([0, 0, 0, ..., 0, 0, 0])"
      ]
     },
     "execution_count": 13,
     "metadata": {},
     "output_type": "execute_result"
    }
   ],
   "source": [
    "# Special Education\n",
    "activeenrollment_specialedstatus = np.random.choice([0, 1], num_records, p=[3329/3587, 258/3587])\n",
    "print(activeenrollment_specialedstatus.shape)\n",
    "activeenrollment_specialedstatus"
   ]
  },
  {
   "cell_type": "code",
   "execution_count": 14,
   "id": "3594d872",
   "metadata": {},
   "outputs": [
    {
     "name": "stdout",
     "output_type": "stream",
     "text": [
      "(3587,)\n"
     ]
    },
    {
     "data": {
      "text/plain": [
       "array([0, 0, 1, ..., 0, 0, 0])"
      ]
     },
     "execution_count": 14,
     "metadata": {},
     "output_type": "execute_result"
    }
   ],
   "source": [
    "# Language Proficiency\n",
    "customstudent_clde_languageproficiency = np.random.choice([0, 1], num_records, p=[3025/3587, 562/3587])\n",
    "print(customstudent_clde_languageproficiency.shape)\n",
    "customstudent_clde_languageproficiency"
   ]
  },
  {
   "cell_type": "code",
   "execution_count": 17,
   "id": "9b1ad2c8",
   "metadata": {},
   "outputs": [
    {
     "name": "stdout",
     "output_type": "stream",
     "text": [
      "(3587,)\n",
      "[0 0 0 0 0 0 0 0 0 0]\n"
     ]
    }
   ],
   "source": [
    "# Gifted Status\n",
    "gifted_student = np.random.choice([0, 1], num_records, p=[3398/3587, 189/3587])\n",
    "print(gifted_student.shape)\n",
    "gifted_student"
   ]
  },
  {
   "cell_type": "code",
   "execution_count": 20,
   "id": "e8a49b3f",
   "metadata": {},
   "outputs": [
    {
     "name": "stdout",
     "output_type": "stream",
     "text": [
      "(3587,)\n"
     ]
    },
    {
     "data": {
      "text/plain": [
       "array(['Western Technology Institute', 'Midwest Conservatory',\n",
       "       'Rocky Mountain College', ..., 'Pacific University',\n",
       "       'Sunset Academy', 'Central State University'], dtype='<U28')"
      ]
     },
     "execution_count": 20,
     "metadata": {},
     "output_type": "execute_result"
    }
   ],
   "source": [
    "# Generate 20 unique fake college names\n",
    "prefixes = [\"Western\", \"Northern\", \"Southern\", \"Eastern\", \"Central\", \"Great Lakes\", \n",
    "            \"Rocky Mountain\", \"Pacific\", \"Midwest\", \"Lakeshore\", \"Blue Ridge\", \"Sunset\"]\n",
    "suffixes = [\"University\", \"College\", \"Institute\", \"Academy\", \"State University\", \n",
    "            \"Polytechnic\", \"Technology Institute\", \"Conservatory\"]\n",
    "\n",
    "fake_colleges = list(set(f\"{random.choice(prefixes)} {random.choice(suffixes)}\" for _ in range(20)))\n",
    "\n",
    "# Assign a random college from the 20 options to each student\n",
    "college_assignments = np.random.choice(fake_colleges, 3587)\n",
    "\n",
    "print(college_assignments.shape)\n",
    "college_assignments"
   ]
  },
  {
   "cell_type": "code",
   "execution_count": null,
   "id": "2200b4fa",
   "metadata": {},
   "outputs": [],
   "source": []
  }
 ],
 "metadata": {
  "kernelspec": {
   "display_name": "Python 3 (ipykernel)",
   "language": "python",
   "name": "python3"
  },
  "language_info": {
   "codemirror_mode": {
    "name": "ipython",
    "version": 3
   },
   "file_extension": ".py",
   "mimetype": "text/x-python",
   "name": "python",
   "nbconvert_exporter": "python",
   "pygments_lexer": "ipython3",
   "version": "3.9.13"
  }
 },
 "nbformat": 4,
 "nbformat_minor": 5
}
