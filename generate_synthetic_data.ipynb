{
 "cells": [
  {
   "cell_type": "code",
   "execution_count": 1,
   "id": "b5686fed",
   "metadata": {},
   "outputs": [],
   "source": [
    "import pandas as pd\n",
    "import numpy as np\n",
    "import random\n",
    "pd.set_option('display.max_columns', 100)"
   ]
  },
  {
   "cell_type": "code",
   "execution_count": 2,
   "id": "30cd51bb",
   "metadata": {},
   "outputs": [
    {
     "name": "stdout",
     "output_type": "stream",
     "text": [
      "(3587,)\n"
     ]
    },
    {
     "data": {
      "text/plain": [
       "array([25795, 10860, 86820, ..., 18244, 24743, 56101])"
      ]
     },
     "execution_count": 2,
     "metadata": {},
     "output_type": "execute_result"
    }
   ],
   "source": [
    "# Set random seed for reproducibility\n",
    "np.random.seed(42)\n",
    "\n",
    "# Number of records\n",
    "num_records = 3587\n",
    "\n",
    "# Generate synthetic student numbers (5-digit numbers)\n",
    "student_studentnumber = np.random.randint(10000, 99999, num_records)\n",
    "print(student_studentnumber.shape)\n",
    "student_studentnumber"
   ]
  },
  {
   "cell_type": "code",
   "execution_count": 3,
   "id": "88d211ef",
   "metadata": {},
   "outputs": [
    {
     "name": "stdout",
     "output_type": "stream",
     "text": [
      "(3587,)\n"
     ]
    },
    {
     "data": {
      "text/plain": [
       "array(['2017-11-19T00:00:00.000000000', '2022-07-13T00:00:00.000000000',\n",
       "       '2021-04-26T00:00:00.000000000', ...,\n",
       "       '2018-10-22T00:00:00.000000000', '2024-04-12T00:00:00.000000000',\n",
       "       '2015-05-24T00:00:00.000000000'], dtype='datetime64[ns]')"
      ]
     },
     "execution_count": 3,
     "metadata": {},
     "output_type": "execute_result"
    }
   ],
   "source": [
    "# High School Graduation Dates (Sampled from given distribution)\n",
    "grad_dates = pd.date_range(start=\"2015-01-01\", end=\"2024-12-31\", freq=\"D\")\n",
    "high_school_grad_date = np.random.choice(grad_dates, num_records)\n",
    "print(high_school_grad_date.shape)\n",
    "high_school_grad_date"
   ]
  },
  {
   "cell_type": "code",
   "execution_count": 4,
   "id": "9a3f658e",
   "metadata": {},
   "outputs": [
    {
     "name": "stdout",
     "output_type": "stream",
     "text": [
      "(3587,)\n"
     ]
    },
    {
     "data": {
      "text/plain": [
       "array([ 0.,  0.,  0., ...,  0., nan, nan])"
      ]
     },
     "execution_count": 4,
     "metadata": {},
     "output_type": "execute_result"
    }
   ],
   "source": [
    "# Graduated College (Using given proportions)\n",
    "graduated_college = np.random.choice([np.nan, 0, 1], num_records, p=[1700/3587, 1502/3587, 385/3587])\n",
    "print(graduated_college.shape)\n",
    "graduated_college"
   ]
  },
  {
   "cell_type": "code",
   "execution_count": 5,
   "id": "036c6c36",
   "metadata": {},
   "outputs": [
    {
     "name": "stdout",
     "output_type": "stream",
     "text": [
      "(3587,)\n"
     ]
    },
    {
     "data": {
      "text/plain": [
       "array([2023, 2024, 2020, ..., 2020, 2024, 2017])"
      ]
     },
     "execution_count": 5,
     "metadata": {},
     "output_type": "execute_result"
    }
   ],
   "source": [
    "# Cohort Distribution\n",
    "cohort_values = [2024, 2020, 2023, 2022, 2021, 2018, 2019, 2016, 2017, 2015]\n",
    "cohort_probs = [437, 402, 395, 371, 365, 344, 342, 320, 317, 294]\n",
    "cohort = np.random.choice(cohort_values, num_records, p=np.array(cohort_probs) / sum(cohort_probs))\n",
    "print(cohort.shape)\n",
    "cohort"
   ]
  },
  {
   "cell_type": "code",
   "execution_count": 6,
   "id": "2aee82b7",
   "metadata": {},
   "outputs": [
    {
     "name": "stdout",
     "output_type": "stream",
     "text": [
      "(3587,)\n"
     ]
    },
    {
     "data": {
      "text/plain": [
       "array([0, 0, 0, ..., 0, 0, 0])"
      ]
     },
     "execution_count": 6,
     "metadata": {},
     "output_type": "execute_result"
    }
   ],
   "source": [
    "# CE Student Distribution\n",
    "ce_student = np.random.choice([0, 1], num_records, p=[2561/3587, 1026/3587])\n",
    "print(ce_student.shape)\n",
    "ce_student"
   ]
  },
  {
   "cell_type": "code",
   "execution_count": 7,
   "id": "dae5bb78",
   "metadata": {},
   "outputs": [
    {
     "name": "stdout",
     "output_type": "stream",
     "text": [
      "(3587,)\n"
     ]
    },
    {
     "data": {
      "text/plain": [
       "array(['Summit Career Academy', 'Rock Creek Youth Center',\n",
       "       'Rock Creek Youth Center', ..., 'Evergreen Virtual Academy',\n",
       "       'Evergreen Virtual Academy', 'Highland Ridge High School'],\n",
       "      dtype='<U26')"
      ]
     },
     "execution_count": 7,
     "metadata": {},
     "output_type": "execute_result"
    }
   ],
   "source": [
    "# School Names\n",
    "school_names = [\"Highland Ridge High School\", \"Cedar Valley High School\", \"Summit Career Academy\", \"Evergreen Virtual Academy\", \"Rock Creek Youth Center\"]\n",
    "school_probs = [700, 694, 754, 712, 727]\n",
    "sch_name = np.random.choice(school_names, num_records, p=np.array(school_probs) / sum(school_probs))\n",
    "print(sch_name.shape)\n",
    "sch_name"
   ]
  },
  {
   "cell_type": "code",
   "execution_count": 8,
   "id": "f523df3e",
   "metadata": {},
   "outputs": [
    {
     "name": "stdout",
     "output_type": "stream",
     "text": [
      "(3587,)\n"
     ]
    },
    {
     "data": {
      "text/plain": [
       "array([1, 1, 1, ..., 0, 0, 0])"
      ]
     },
     "execution_count": 8,
     "metadata": {},
     "output_type": "execute_result"
    }
   ],
   "source": [
    "# Gender Distribution\n",
    "student_gender = np.random.choice([1, 0], num_records, p=[1860/3587, 1727/3587])\n",
    "print(student_gender.shape)\n",
    "student_gender"
   ]
  },
  {
   "cell_type": "code",
   "execution_count": 9,
   "id": "892f1222",
   "metadata": {},
   "outputs": [
    {
     "name": "stdout",
     "output_type": "stream",
     "text": [
      "(3587,)\n"
     ]
    },
    {
     "data": {
      "text/plain": [
       "array(['Other', 'Other', 'Hispanic', ..., 'Two or More Races', 'Hispanic',\n",
       "       'Hispanic'], dtype='<U25')"
      ]
     },
     "execution_count": 9,
     "metadata": {},
     "output_type": "execute_result"
    }
   ],
   "source": [
    "# Race/Ethnicity Distribution\n",
    "race_ethnicity = [\"Hispanic\", \"Black or African American\", \"White\", \"Two or More Races\", \"Asian\", \"Other\"]\n",
    "race_probs = [1736, 814, 622, 243, 107, 65]\n",
    "student_raceethnicity = np.random.choice(race_ethnicity, num_records, p=np.array(race_probs) / sum(race_probs))\n",
    "print(student_raceethnicity.shape)\n",
    "student_raceethnicity"
   ]
  },
  {
   "cell_type": "code",
   "execution_count": 10,
   "id": "8796ee68",
   "metadata": {},
   "outputs": [
    {
     "name": "stdout",
     "output_type": "stream",
     "text": [
      "(3587,)\n"
     ]
    },
    {
     "data": {
      "text/plain": [
       "array([0, 0, 0, ..., 0, 0, 0])"
      ]
     },
     "execution_count": 10,
     "metadata": {},
     "output_type": "execute_result"
    }
   ],
   "source": [
    "# Special Education\n",
    "activeenrollment_specialedstatus = np.random.choice([0, 1], num_records, p=[3329/3587, 258/3587])\n",
    "print(activeenrollment_specialedstatus.shape)\n",
    "activeenrollment_specialedstatus"
   ]
  },
  {
   "cell_type": "code",
   "execution_count": 11,
   "id": "3594d872",
   "metadata": {},
   "outputs": [
    {
     "name": "stdout",
     "output_type": "stream",
     "text": [
      "(3587,)\n"
     ]
    },
    {
     "data": {
      "text/plain": [
       "array([0, 1, 0, ..., 0, 0, 0])"
      ]
     },
     "execution_count": 11,
     "metadata": {},
     "output_type": "execute_result"
    }
   ],
   "source": [
    "# Language Proficiency\n",
    "customstudent_clde_languageproficiency = np.random.choice([0, 1], num_records, p=[3025/3587, 562/3587])\n",
    "print(customstudent_clde_languageproficiency.shape)\n",
    "customstudent_clde_languageproficiency"
   ]
  },
  {
   "cell_type": "code",
   "execution_count": 12,
   "id": "9b1ad2c8",
   "metadata": {},
   "outputs": [
    {
     "name": "stdout",
     "output_type": "stream",
     "text": [
      "(3587,)\n"
     ]
    },
    {
     "data": {
      "text/plain": [
       "array([0, 0, 0, ..., 0, 0, 0])"
      ]
     },
     "execution_count": 12,
     "metadata": {},
     "output_type": "execute_result"
    }
   ],
   "source": [
    "# Gifted Status\n",
    "gifted_student = np.random.choice([0, 1], num_records, p=[3398/3587, 189/3587])\n",
    "print(gifted_student.shape)\n",
    "gifted_student"
   ]
  },
  {
   "cell_type": "code",
   "execution_count": 13,
   "id": "e8a49b3f",
   "metadata": {},
   "outputs": [
    {
     "name": "stdout",
     "output_type": "stream",
     "text": [
      "(3587,)\n",
      "['Midwest State University' 'Midwest State University' 'Southern College'\n",
      " 'Rocky Mountain Conservatory' 'Eastern State University'\n",
      " 'Eastern State University' 'Lakeshore Technology Institute'\n",
      " 'Southern College' 'Great Lakes University' 'Great Lakes University']\n",
      "(3587,)\n",
      "['Great Lakes State University' 'Western University' 'Northern University'\n",
      " 'Southern Academy' 'Western University' 'Rocky Mountain Conservatory'\n",
      " 'Eastern State University' 'Lakeshore Technology Institute'\n",
      " 'Eastern Institute' 'Midwest State University']\n"
     ]
    }
   ],
   "source": [
    "# Generate 20 unique fake college names\n",
    "prefixes = [\"Western\", \"Northern\", \"Southern\", \"Eastern\", \"Central\", \"Great Lakes\", \n",
    "            \"Rocky Mountain\", \"Pacific\", \"Midwest\", \"Lakeshore\", \"Blue Ridge\", \"Sunset\"]\n",
    "suffixes = [\"University\", \"College\", \"Institute\", \"Academy\", \"State University\", \n",
    "            \"Polytechnic\", \"Technology Institute\", \"Conservatory\"]\n",
    "\n",
    "fake_colleges = list(set(f\"{random.choice(prefixes)} {random.choice(suffixes)}\" for _ in range(20)))\n",
    "\n",
    "# Assign a random college from the 20 options to each student\n",
    "first_college_name = np.random.choice(fake_colleges, 3587)\n",
    "last_college_name = np.random.choice(fake_colleges, 3587)\n",
    "\n",
    "print(first_college_name.shape)\n",
    "print(first_college_name[:10])\n",
    "print(last_college_name.shape)\n",
    "print(last_college_name[:10])"
   ]
  },
  {
   "cell_type": "code",
   "execution_count": 14,
   "id": "2200b4fa",
   "metadata": {},
   "outputs": [
    {
     "name": "stdout",
     "output_type": "stream",
     "text": [
      "(3587,)\n",
      "['CO' 'CO' 'CO' 'CO' 'CO' 'CO' 'CO' 'CO' 'CO' 'CO']\n",
      "(3587,)\n",
      "['IL' 'CO' 'CO' 'CO' 'CO' 'CO' 'CO' 'CO' 'CO' 'CO']\n"
     ]
    }
   ],
   "source": [
    "# Define states and their corresponding frequencies\n",
    "states = [\"CO\", \"AZ\", \"KS\", \"TX\", \"CA\", \"FL\", \"NM\", \"MD\", \"IA\", \"IL\", \"VA\"]\n",
    "state_probs = [1578, 28, 25, 25, 23, 21, 16, 14, 12, 9, 8]\n",
    "\n",
    "# Normalize probabilities to sum to 1\n",
    "state_probs = np.array(state_probs) / sum(state_probs)\n",
    "\n",
    "# Generate random states (No NaN values)\n",
    "num_records = 3587\n",
    "first_college_state = np.random.choice(states, num_records, p=state_probs)\n",
    "last_college_state = np.random.choice(states, num_records, p=state_probs)\n",
    "\n",
    "# Print results\n",
    "print(first_college_state.shape)\n",
    "print(first_college_state[:10])\n",
    "print(last_college_state.shape)\n",
    "print(last_college_state[:10])"
   ]
  },
  {
   "cell_type": "code",
   "execution_count": 15,
   "id": "97061d4a",
   "metadata": {},
   "outputs": [
    {
     "name": "stdout",
     "output_type": "stream",
     "text": [
      "(3587,)\n",
      "0   2019-01-14\n",
      "1   2017-08-14\n",
      "2   2020-08-25\n",
      "3   2015-08-18\n",
      "4   2015-08-14\n",
      "dtype: datetime64[ns]\n"
     ]
    }
   ],
   "source": [
    "# Define year range\n",
    "years = np.arange(2015, 2025)  # Covers 2015-2024\n",
    "\n",
    "# Generate possible August and January enrollment dates\n",
    "august_dates = [pd.Timestamp(f\"{year}-08-{day}\") for year in years for day in range(10, 26)]  # Aug 10-25\n",
    "january_dates = [pd.Timestamp(f\"{year}-01-{day}\") for year in years for day in range(10, 21)]  # Jan 10-20\n",
    "\n",
    "# Combine all possible enrollment dates\n",
    "enrollment_dates = august_dates + january_dates\n",
    "\n",
    "# Ensure reasonable weighting (80% August, 20% January)\n",
    "weights = [0.8 / len(august_dates)] * len(august_dates) + [0.2 / len(january_dates)] * len(january_dates)\n",
    "\n",
    "# Generate first enrollment dates\n",
    "num_records = 3587  # Adjust as needed\n",
    "first_enrollment_begin = np.random.choice(enrollment_dates, num_records, p=weights)\n",
    "\n",
    "# Convert to pandas Series if needed\n",
    "first_enrollment_begin = pd.Series(first_enrollment_begin)\n",
    "\n",
    "# Preview results\n",
    "print(first_enrollment_begin.shape)\n",
    "print(first_enrollment_begin[:5])"
   ]
  },
  {
   "cell_type": "code",
   "execution_count": 16,
   "id": "70f10f26",
   "metadata": {},
   "outputs": [
    {
     "name": "stdout",
     "output_type": "stream",
     "text": [
      "(3587,)\n",
      "0   2019-05-20\n",
      "1   2018-05-15\n",
      "2   2021-05-17\n",
      "3   2016-05-19\n",
      "4   2016-05-03\n",
      "dtype: datetime64[ns]\n"
     ]
    }
   ],
   "source": [
    "# Generate first enrollment end date correctly\n",
    "def get_random_may_date(start_date):\n",
    "    if start_date.month == 1:  # January enrollment\n",
    "        may_year = start_date.year  # Same year\n",
    "    else:  # August enrollment\n",
    "        may_year = start_date.year + 1  # Next year\n",
    "\n",
    "    may_dates = pd.date_range(start=f\"{may_year}-05-01\", end=f\"{may_year}-05-31\")\n",
    "    return np.random.choice(may_dates)\n",
    "\n",
    "first_enrollment_end = first_enrollment_begin.apply(get_random_may_date)\n",
    "print(first_enrollment_end.shape)\n",
    "print(first_enrollment_end[:5])"
   ]
  },
  {
   "cell_type": "code",
   "execution_count": null,
   "id": "78bd2ac8",
   "metadata": {},
   "outputs": [],
   "source": []
  }
 ],
 "metadata": {
  "kernelspec": {
   "display_name": "Python 3 (ipykernel)",
   "language": "python",
   "name": "python3"
  },
  "language_info": {
   "codemirror_mode": {
    "name": "ipython",
    "version": 3
   },
   "file_extension": ".py",
   "mimetype": "text/x-python",
   "name": "python",
   "nbconvert_exporter": "python",
   "pygments_lexer": "ipython3",
   "version": "3.9.13"
  }
 },
 "nbformat": 4,
 "nbformat_minor": 5
}
