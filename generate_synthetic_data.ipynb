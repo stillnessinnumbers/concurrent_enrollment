{
 "cells": [
  {
   "cell_type": "code",
   "execution_count": 1,
   "id": "b5686fed",
   "metadata": {},
   "outputs": [],
   "source": [
    "import pandas as pd\n",
    "import numpy as np\n",
    "import random\n",
    "pd.set_option('display.max_columns', 100)"
   ]
  },
  {
   "cell_type": "code",
   "execution_count": 2,
   "id": "30cd51bb",
   "metadata": {},
   "outputs": [
    {
     "name": "stdout",
     "output_type": "stream",
     "text": [
      "(3587,)\n"
     ]
    },
    {
     "data": {
      "text/plain": [
       "array([25795, 10860, 86820, ..., 18244, 24743, 56101])"
      ]
     },
     "execution_count": 2,
     "metadata": {},
     "output_type": "execute_result"
    }
   ],
   "source": [
    "# Set random seed for reproducibility\n",
    "np.random.seed(42)\n",
    "\n",
    "# Number of records\n",
    "num_records = 3587\n",
    "\n",
    "# Generate synthetic student numbers (5-digit numbers)\n",
    "student_studentnumber = np.random.randint(10000, 99999, num_records)\n",
    "print(student_studentnumber.shape)\n",
    "student_studentnumber"
   ]
  },
  {
   "cell_type": "code",
   "execution_count": 3,
   "id": "88d211ef",
   "metadata": {},
   "outputs": [
    {
     "name": "stdout",
     "output_type": "stream",
     "text": [
      "(3587,)\n"
     ]
    },
    {
     "data": {
      "text/plain": [
       "array(['2017-11-19T00:00:00.000000000', '2022-07-13T00:00:00.000000000',\n",
       "       '2021-04-26T00:00:00.000000000', ...,\n",
       "       '2018-10-22T00:00:00.000000000', '2024-04-12T00:00:00.000000000',\n",
       "       '2015-05-24T00:00:00.000000000'], dtype='datetime64[ns]')"
      ]
     },
     "execution_count": 3,
     "metadata": {},
     "output_type": "execute_result"
    }
   ],
   "source": [
    "# High School Graduation Dates (Sampled from given distribution)\n",
    "grad_dates = pd.date_range(start=\"2015-01-01\", end=\"2024-12-31\", freq=\"D\")\n",
    "high_school_grad_date = np.random.choice(grad_dates, num_records)\n",
    "print(high_school_grad_date.shape)\n",
    "high_school_grad_date"
   ]
  },
  {
   "cell_type": "code",
   "execution_count": 4,
   "id": "9a3f658e",
   "metadata": {},
   "outputs": [
    {
     "name": "stdout",
     "output_type": "stream",
     "text": [
      "(3587,)\n"
     ]
    },
    {
     "data": {
      "text/plain": [
       "array([ 0.,  0.,  0., ...,  0., nan, nan])"
      ]
     },
     "execution_count": 4,
     "metadata": {},
     "output_type": "execute_result"
    }
   ],
   "source": [
    "# Graduated College (Using given proportions)\n",
    "graduated_college = np.random.choice([np.nan, 0, 1], num_records, p=[1700/3587, 1502/3587, 385/3587])\n",
    "print(graduated_college.shape)\n",
    "graduated_college"
   ]
  },
  {
   "cell_type": "code",
   "execution_count": 5,
   "id": "036c6c36",
   "metadata": {},
   "outputs": [
    {
     "name": "stdout",
     "output_type": "stream",
     "text": [
      "(3587,)\n"
     ]
    },
    {
     "data": {
      "text/plain": [
       "array([2023, 2024, 2020, ..., 2020, 2024, 2017])"
      ]
     },
     "execution_count": 5,
     "metadata": {},
     "output_type": "execute_result"
    }
   ],
   "source": [
    "# Cohort Distribution\n",
    "cohort_values = [2024, 2020, 2023, 2022, 2021, 2018, 2019, 2016, 2017, 2015]\n",
    "cohort_probs = [437, 402, 395, 371, 365, 344, 342, 320, 317, 294]\n",
    "cohort = np.random.choice(cohort_values, num_records, p=np.array(cohort_probs) / sum(cohort_probs))\n",
    "print(cohort.shape)\n",
    "cohort"
   ]
  },
  {
   "cell_type": "code",
   "execution_count": null,
   "id": "2aee82b7",
   "metadata": {},
   "outputs": [],
   "source": []
  }
 ],
 "metadata": {
  "kernelspec": {
   "display_name": "Python 3 (ipykernel)",
   "language": "python",
   "name": "python3"
  },
  "language_info": {
   "codemirror_mode": {
    "name": "ipython",
    "version": 3
   },
   "file_extension": ".py",
   "mimetype": "text/x-python",
   "name": "python",
   "nbconvert_exporter": "python",
   "pygments_lexer": "ipython3",
   "version": "3.9.13"
  }
 },
 "nbformat": 4,
 "nbformat_minor": 5
}
